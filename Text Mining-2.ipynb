{
 "cells": [
  {
   "cell_type": "markdown",
   "id": "6bb7bba1",
   "metadata": {},
   "source": [
    "### Importing Libraries"
   ]
  },
  {
   "cell_type": "code",
   "execution_count": 59,
   "id": "c4e9c54d",
   "metadata": {},
   "outputs": [],
   "source": [
    "import pandas as pd\n",
    "\n",
    "import numpy as np\n",
    "import matplotlib.pyplot as plt\n",
    "import seaborn as sns\n",
    "\n",
    "import re ##regular expression library .\n",
    "import nltk\n",
    "from nltk.corpus import stopwords\n",
    "from nltk.tokenize import word_tokenize\n",
    "from nltk.stem import WordNetLemmatizer\n",
    "from nltk.stem.porter import PorterStemmer\n",
    "from nltk.tokenize import sent_tokenize, word_tokenize\n",
    "\n",
    "from sklearn.model_selection import train_test_split\n",
    "from sklearn.feature_extraction.text import CountVectorizer,TfidfVectorizer,TfidfTransformer , TfidfVectorizer\n",
    "from sklearn.naive_bayes import MultinomialNB\n",
    "from sklearn.metrics import classification_report, confusion_matrix, accuracy_score"
   ]
  },
  {
   "cell_type": "markdown",
   "id": "7bf49feb",
   "metadata": {},
   "source": [
    "### Reading the data"
   ]
  },
  {
   "cell_type": "code",
   "execution_count": 60,
   "id": "19ee01de",
   "metadata": {},
   "outputs": [],
   "source": [
    "train=pd.read_csv('tweets_train.csv')\n",
    "test= pd.read_csv('tweets_test.csv')"
   ]
  },
  {
   "cell_type": "code",
   "execution_count": 61,
   "id": "04a6b99b",
   "metadata": {},
   "outputs": [
    {
     "data": {
      "text/html": [
       "<div>\n",
       "<style scoped>\n",
       "    .dataframe tbody tr th:only-of-type {\n",
       "        vertical-align: middle;\n",
       "    }\n",
       "\n",
       "    .dataframe tbody tr th {\n",
       "        vertical-align: top;\n",
       "    }\n",
       "\n",
       "    .dataframe thead th {\n",
       "        text-align: right;\n",
       "    }\n",
       "</style>\n",
       "<table border=\"1\" class=\"dataframe\">\n",
       "  <thead>\n",
       "    <tr style=\"text-align: right;\">\n",
       "      <th></th>\n",
       "      <th>id</th>\n",
       "      <th>keyword</th>\n",
       "      <th>location</th>\n",
       "      <th>text</th>\n",
       "      <th>target</th>\n",
       "    </tr>\n",
       "  </thead>\n",
       "  <tbody>\n",
       "    <tr>\n",
       "      <th>0</th>\n",
       "      <td>0</td>\n",
       "      <td>ablaze</td>\n",
       "      <td>NaN</td>\n",
       "      <td>Communal violence in Bhainsa, Telangana. \"Ston...</td>\n",
       "      <td>1</td>\n",
       "    </tr>\n",
       "    <tr>\n",
       "      <th>1</th>\n",
       "      <td>1</td>\n",
       "      <td>ablaze</td>\n",
       "      <td>NaN</td>\n",
       "      <td>Telangana: Section 144 has been imposed in Bha...</td>\n",
       "      <td>1</td>\n",
       "    </tr>\n",
       "    <tr>\n",
       "      <th>2</th>\n",
       "      <td>2</td>\n",
       "      <td>ablaze</td>\n",
       "      <td>New York City</td>\n",
       "      <td>Arsonist sets cars ablaze at dealership https:...</td>\n",
       "      <td>1</td>\n",
       "    </tr>\n",
       "    <tr>\n",
       "      <th>3</th>\n",
       "      <td>3</td>\n",
       "      <td>ablaze</td>\n",
       "      <td>Morgantown, WV</td>\n",
       "      <td>Arsonist sets cars ablaze at dealership https:...</td>\n",
       "      <td>1</td>\n",
       "    </tr>\n",
       "    <tr>\n",
       "      <th>4</th>\n",
       "      <td>4</td>\n",
       "      <td>ablaze</td>\n",
       "      <td>NaN</td>\n",
       "      <td>\"Lord Jesus, your love brings freedom and pard...</td>\n",
       "      <td>0</td>\n",
       "    </tr>\n",
       "    <tr>\n",
       "      <th>5</th>\n",
       "      <td>5</td>\n",
       "      <td>ablaze</td>\n",
       "      <td>OC</td>\n",
       "      <td>If this child was Chinese, this tweet would ha...</td>\n",
       "      <td>0</td>\n",
       "    </tr>\n",
       "    <tr>\n",
       "      <th>6</th>\n",
       "      <td>6</td>\n",
       "      <td>ablaze</td>\n",
       "      <td>London, England</td>\n",
       "      <td>Several houses have been set ablaze in Ngemsib...</td>\n",
       "      <td>1</td>\n",
       "    </tr>\n",
       "    <tr>\n",
       "      <th>7</th>\n",
       "      <td>7</td>\n",
       "      <td>ablaze</td>\n",
       "      <td>Bharat</td>\n",
       "      <td>Asansol: A BJP office in Salanpur village was ...</td>\n",
       "      <td>1</td>\n",
       "    </tr>\n",
       "    <tr>\n",
       "      <th>8</th>\n",
       "      <td>8</td>\n",
       "      <td>ablaze</td>\n",
       "      <td>Accra, Ghana</td>\n",
       "      <td>National Security Minister, Kan Dapaah's side ...</td>\n",
       "      <td>0</td>\n",
       "    </tr>\n",
       "    <tr>\n",
       "      <th>9</th>\n",
       "      <td>9</td>\n",
       "      <td>ablaze</td>\n",
       "      <td>Searching</td>\n",
       "      <td>This creature who’s soul is no longer clarent ...</td>\n",
       "      <td>0</td>\n",
       "    </tr>\n",
       "    <tr>\n",
       "      <th>10</th>\n",
       "      <td>10</td>\n",
       "      <td>ablaze</td>\n",
       "      <td>NaN</td>\n",
       "      <td>Images showing the havoc caused by the #Camero...</td>\n",
       "      <td>1</td>\n",
       "    </tr>\n",
       "    <tr>\n",
       "      <th>11</th>\n",
       "      <td>11</td>\n",
       "      <td>ablaze</td>\n",
       "      <td>NaN</td>\n",
       "      <td>Social media went bananas after Chuba Hubbard ...</td>\n",
       "      <td>0</td>\n",
       "    </tr>\n",
       "    <tr>\n",
       "      <th>12</th>\n",
       "      <td>12</td>\n",
       "      <td>ablaze</td>\n",
       "      <td>NaN</td>\n",
       "      <td>Hausa youths set Area Office of Apapa-Iganmu L...</td>\n",
       "      <td>1</td>\n",
       "    </tr>\n",
       "    <tr>\n",
       "      <th>13</th>\n",
       "      <td>13</td>\n",
       "      <td>ablaze</td>\n",
       "      <td>HYDERABAD</td>\n",
       "      <td>Under #MamataBanerjee political violence &amp;amp;...</td>\n",
       "      <td>1</td>\n",
       "    </tr>\n",
       "    <tr>\n",
       "      <th>14</th>\n",
       "      <td>14</td>\n",
       "      <td>ablaze</td>\n",
       "      <td>Reno, NV</td>\n",
       "      <td>AMEN! Set the whole system ablaze, man. https:...</td>\n",
       "      <td>0</td>\n",
       "    </tr>\n",
       "  </tbody>\n",
       "</table>\n",
       "</div>"
      ],
      "text/plain": [
       "    id keyword         location  \\\n",
       "0    0  ablaze              NaN   \n",
       "1    1  ablaze              NaN   \n",
       "2    2  ablaze    New York City   \n",
       "3    3  ablaze   Morgantown, WV   \n",
       "4    4  ablaze              NaN   \n",
       "5    5  ablaze               OC   \n",
       "6    6  ablaze  London, England   \n",
       "7    7  ablaze           Bharat   \n",
       "8    8  ablaze     Accra, Ghana   \n",
       "9    9  ablaze        Searching   \n",
       "10  10  ablaze              NaN   \n",
       "11  11  ablaze              NaN   \n",
       "12  12  ablaze              NaN   \n",
       "13  13  ablaze        HYDERABAD   \n",
       "14  14  ablaze         Reno, NV   \n",
       "\n",
       "                                                 text  target  \n",
       "0   Communal violence in Bhainsa, Telangana. \"Ston...       1  \n",
       "1   Telangana: Section 144 has been imposed in Bha...       1  \n",
       "2   Arsonist sets cars ablaze at dealership https:...       1  \n",
       "3   Arsonist sets cars ablaze at dealership https:...       1  \n",
       "4   \"Lord Jesus, your love brings freedom and pard...       0  \n",
       "5   If this child was Chinese, this tweet would ha...       0  \n",
       "6   Several houses have been set ablaze in Ngemsib...       1  \n",
       "7   Asansol: A BJP office in Salanpur village was ...       1  \n",
       "8   National Security Minister, Kan Dapaah's side ...       0  \n",
       "9   This creature who’s soul is no longer clarent ...       0  \n",
       "10  Images showing the havoc caused by the #Camero...       1  \n",
       "11  Social media went bananas after Chuba Hubbard ...       0  \n",
       "12  Hausa youths set Area Office of Apapa-Iganmu L...       1  \n",
       "13  Under #MamataBanerjee political violence &amp;...       1  \n",
       "14  AMEN! Set the whole system ablaze, man. https:...       0  "
      ]
     },
     "execution_count": 61,
     "metadata": {},
     "output_type": "execute_result"
    }
   ],
   "source": [
    "train.head(15)"
   ]
  },
  {
   "cell_type": "code",
   "execution_count": 62,
   "id": "52e0bd82",
   "metadata": {},
   "outputs": [
    {
     "data": {
      "text/plain": [
       "(7979, 5)"
      ]
     },
     "execution_count": 62,
     "metadata": {},
     "output_type": "execute_result"
    }
   ],
   "source": [
    "train.shape"
   ]
  },
  {
   "cell_type": "markdown",
   "id": "ddfae6f7",
   "metadata": {},
   "source": [
    "### EDA"
   ]
  },
  {
   "cell_type": "code",
   "execution_count": 63,
   "id": "de464e3d",
   "metadata": {},
   "outputs": [
    {
     "name": "stderr",
     "output_type": "stream",
     "text": [
      "C:\\Users\\hp\\anaconda4\\lib\\site-packages\\seaborn\\_decorators.py:36: FutureWarning: Pass the following variable as a keyword arg: x. From version 0.12, the only valid positional argument will be `data`, and passing other arguments without an explicit keyword will result in an error or misinterpretation.\n",
      "  warnings.warn(\n"
     ]
    },
    {
     "data": {
      "text/plain": [
       "<AxesSubplot:xlabel='target', ylabel='count'>"
      ]
     },
     "execution_count": 63,
     "metadata": {},
     "output_type": "execute_result"
    },
    {
     "data": {
      "image/png": "[encoded data removed]",
      "text/plain": [
       "<Figure size 432x288 with 1 Axes>"
      ]
     },
     "metadata": {
      "needs_background": "light"
     },
     "output_type": "display_data"
    }
   ],
   "source": [
    "pipfig = plt.figure()\n",
    "sns.countplot(train['target'],  hue=train['target'],palette= [\"#ff3333\",\"#004de6\"])"
   ]
  },
  {
   "cell_type": "code",
   "execution_count": 64,
   "id": "581fe37a",
   "metadata": {},
   "outputs": [
    {
     "name": "stdout",
     "output_type": "stream",
     "text": [
      "The maxmum length of disaster tweets: 147\n"
     ]
    }
   ],
   "source": [
    "text_len=train[train['target']==1]['text'].str.len().max()\n",
    "print(f'The maxmum length of disaster tweets:',text_len)"
   ]
  },
  {
   "cell_type": "code",
   "execution_count": 65,
   "id": "0ca7c4f6",
   "metadata": {},
   "outputs": [
    {
     "name": "stdout",
     "output_type": "stream",
     "text": [
      "The maxmum length of NOT disaster tweets: 148\n"
     ]
    }
   ],
   "source": [
    "text_len=train[train['target']==0]['text'].str.len().max()\n",
    "print(f'The maxmum length of NOT disaster tweets:',text_len)"
   ]
  },
  {
   "cell_type": "markdown",
   "id": "7454787b",
   "metadata": {},
   "source": [
    "### Target Analysis"
   ]
  },
  {
   "cell_type": "code",
   "execution_count": 66,
   "id": "dd38c709",
   "metadata": {},
   "outputs": [
    {
     "name": "stdout",
     "output_type": "stream",
     "text": [
      "The average of disaster tweets: 13.76 %\n"
     ]
    }
   ],
   "source": [
    "avg_disaster=train[train['target']==1]['target'].count()\n",
    "print(f'The average of disaster tweets:',avg_disaster/100,'%')"
   ]
  },
  {
   "cell_type": "code",
   "execution_count": 67,
   "id": "2511bc99",
   "metadata": {},
   "outputs": [
    {
     "name": "stdout",
     "output_type": "stream",
     "text": [
      "The average of not disaster tweets: 66.03 %\n"
     ]
    }
   ],
   "source": [
    "avg_disaster=train[train['target']==0]['target'].count()\n",
    "print(f'The average of not disaster tweets:',avg_disaster/100,'%')"
   ]
  },
  {
   "cell_type": "code",
   "execution_count": 68,
   "id": "89047eea",
   "metadata": {},
   "outputs": [],
   "source": [
    "train['T_mean'] = train.groupby('keyword')['target'].mean()"
   ]
  },
  {
   "cell_type": "code",
   "execution_count": 19,
   "id": "b46ff9b4",
   "metadata": {},
   "outputs": [
    {
     "data": {
      "image/png": "[encoded data removed]",
      "text/plain": [
       "<Figure size 800x7200 with 1 Axes>"
      ]
     },
     "metadata": {
      "needs_background": "light"
     },
     "output_type": "display_data"
    }
   ],
   "source": [
    "fig = plt.figure(figsize=(8, 72), dpi=100)\n",
    "\n",
    "sns.countplot(y=train.sort_values(by='T_mean', ascending=True)['keyword'],\n",
    "              hue=train.sort_values(by='T_mean', ascending=True)['target'] ,  palette= [\"#80aaff\",\"#004de6\"])\n",
    "\n",
    "plt.tick_params(axis='x', labelsize=15)\n",
    "plt.tick_params(axis='y', labelsize=10)\n",
    "plt.legend(loc=1)\n",
    "plt.title(' Avg of Target depend on Keywords')\n",
    "\n",
    "plt.show()\n",
    "fig.savefig('Avg of Target depend on Keywords.png')"
   ]
  },
  {
   "cell_type": "code",
   "execution_count": 20,
   "id": "4213400b",
   "metadata": {},
   "outputs": [],
   "source": [
    "train.drop(columns=['T_mean'], inplace=True)"
   ]
  },
  {
   "cell_type": "code",
   "execution_count": 22,
   "id": "10c234ed",
   "metadata": {},
   "outputs": [
    {
     "name": "stderr",
     "output_type": "stream",
     "text": [
      "[nltk_data] Downloading package punkt to\n",
      "[nltk_data]     C:\\Users\\hp\\AppData\\Roaming\\nltk_data...\n",
      "[nltk_data]   Unzipping tokenizers\\punkt.zip.\n"
     ]
    },
    {
     "data": {
      "text/plain": [
       "True"
      ]
     },
     "execution_count": 22,
     "metadata": {},
     "output_type": "execute_result"
    }
   ],
   "source": [
    "nltk.download('punkt')"
   ]
  },
  {
   "cell_type": "code",
   "execution_count": 23,
   "id": "6bfc22c0",
   "metadata": {},
   "outputs": [
    {
     "data": {
      "text/html": [
       "<div>\n",
       "<style scoped>\n",
       "    .dataframe tbody tr th:only-of-type {\n",
       "        vertical-align: middle;\n",
       "    }\n",
       "\n",
       "    .dataframe tbody tr th {\n",
       "        vertical-align: top;\n",
       "    }\n",
       "\n",
       "    .dataframe thead th {\n",
       "        text-align: right;\n",
       "    }\n",
       "</style>\n",
       "<table border=\"1\" class=\"dataframe\">\n",
       "  <thead>\n",
       "    <tr style=\"text-align: right;\">\n",
       "      <th></th>\n",
       "      <th>id</th>\n",
       "      <th>keyword</th>\n",
       "      <th>location</th>\n",
       "      <th>text</th>\n",
       "      <th>target</th>\n",
       "      <th>length</th>\n",
       "    </tr>\n",
       "  </thead>\n",
       "  <tbody>\n",
       "    <tr>\n",
       "      <th>0</th>\n",
       "      <td>0</td>\n",
       "      <td>ablaze</td>\n",
       "      <td>NaN</td>\n",
       "      <td>Communal violence in Bhainsa, Telangana. \"Ston...</td>\n",
       "      <td>1</td>\n",
       "      <td>23</td>\n",
       "    </tr>\n",
       "    <tr>\n",
       "      <th>1</th>\n",
       "      <td>1</td>\n",
       "      <td>ablaze</td>\n",
       "      <td>NaN</td>\n",
       "      <td>Telangana: Section 144 has been imposed in Bha...</td>\n",
       "      <td>1</td>\n",
       "      <td>26</td>\n",
       "    </tr>\n",
       "    <tr>\n",
       "      <th>2</th>\n",
       "      <td>2</td>\n",
       "      <td>ablaze</td>\n",
       "      <td>New York City</td>\n",
       "      <td>Arsonist sets cars ablaze at dealership https:...</td>\n",
       "      <td>1</td>\n",
       "      <td>9</td>\n",
       "    </tr>\n",
       "    <tr>\n",
       "      <th>3</th>\n",
       "      <td>3</td>\n",
       "      <td>ablaze</td>\n",
       "      <td>Morgantown, WV</td>\n",
       "      <td>Arsonist sets cars ablaze at dealership https:...</td>\n",
       "      <td>1</td>\n",
       "      <td>12</td>\n",
       "    </tr>\n",
       "    <tr>\n",
       "      <th>4</th>\n",
       "      <td>4</td>\n",
       "      <td>ablaze</td>\n",
       "      <td>NaN</td>\n",
       "      <td>\"Lord Jesus, your love brings freedom and pard...</td>\n",
       "      <td>0</td>\n",
       "      <td>28</td>\n",
       "    </tr>\n",
       "    <tr>\n",
       "      <th>...</th>\n",
       "      <td>...</td>\n",
       "      <td>...</td>\n",
       "      <td>...</td>\n",
       "      <td>...</td>\n",
       "      <td>...</td>\n",
       "      <td>...</td>\n",
       "    </tr>\n",
       "    <tr>\n",
       "      <th>7974</th>\n",
       "      <td>7974</td>\n",
       "      <td>outbreak</td>\n",
       "      <td>Philippines</td>\n",
       "      <td>In a statement, it said \"evidence is highly su...</td>\n",
       "      <td>1</td>\n",
       "      <td>21</td>\n",
       "    </tr>\n",
       "    <tr>\n",
       "      <th>7975</th>\n",
       "      <td>7975</td>\n",
       "      <td>outbreak</td>\n",
       "      <td>NaN</td>\n",
       "      <td>Mystery China Pneumonia Outbreak Likely Caused...</td>\n",
       "      <td>1</td>\n",
       "      <td>14</td>\n",
       "    </tr>\n",
       "    <tr>\n",
       "      <th>7976</th>\n",
       "      <td>7976</td>\n",
       "      <td>outbreak</td>\n",
       "      <td>NaN</td>\n",
       "      <td>Just a few weeks back we were shocked with a n...</td>\n",
       "      <td>1</td>\n",
       "      <td>32</td>\n",
       "    </tr>\n",
       "    <tr>\n",
       "      <th>7977</th>\n",
       "      <td>7977</td>\n",
       "      <td>outbreak</td>\n",
       "      <td>Barcelona</td>\n",
       "      <td>Check out “Pandemic: How to Prevent an Outbrea...</td>\n",
       "      <td>0</td>\n",
       "      <td>19</td>\n",
       "    </tr>\n",
       "    <tr>\n",
       "      <th>7978</th>\n",
       "      <td>7978</td>\n",
       "      <td>outbreak</td>\n",
       "      <td>Quezon City, National Capital Region</td>\n",
       "      <td>In a statement, it said \"evidence is highly su...</td>\n",
       "      <td>1</td>\n",
       "      <td>24</td>\n",
       "    </tr>\n",
       "  </tbody>\n",
       "</table>\n",
       "<p>7979 rows × 6 columns</p>\n",
       "</div>"
      ],
      "text/plain": [
       "        id   keyword                              location  \\\n",
       "0        0    ablaze                                   NaN   \n",
       "1        1    ablaze                                   NaN   \n",
       "2        2    ablaze                         New York City   \n",
       "3        3    ablaze                        Morgantown, WV   \n",
       "4        4    ablaze                                   NaN   \n",
       "...    ...       ...                                   ...   \n",
       "7974  7974  outbreak                           Philippines   \n",
       "7975  7975  outbreak                                   NaN   \n",
       "7976  7976  outbreak                                   NaN   \n",
       "7977  7977  outbreak                             Barcelona   \n",
       "7978  7978  outbreak  Quezon City, National Capital Region   \n",
       "\n",
       "                                                   text  target  length  \n",
       "0     Communal violence in Bhainsa, Telangana. \"Ston...       1      23  \n",
       "1     Telangana: Section 144 has been imposed in Bha...       1      26  \n",
       "2     Arsonist sets cars ablaze at dealership https:...       1       9  \n",
       "3     Arsonist sets cars ablaze at dealership https:...       1      12  \n",
       "4     \"Lord Jesus, your love brings freedom and pard...       0      28  \n",
       "...                                                 ...     ...     ...  \n",
       "7974  In a statement, it said \"evidence is highly su...       1      21  \n",
       "7975  Mystery China Pneumonia Outbreak Likely Caused...       1      14  \n",
       "7976  Just a few weeks back we were shocked with a n...       1      32  \n",
       "7977  Check out “Pandemic: How to Prevent an Outbrea...       0      19  \n",
       "7978  In a statement, it said \"evidence is highly su...       1      24  \n",
       "\n",
       "[7979 rows x 6 columns]"
      ]
     },
     "execution_count": 23,
     "metadata": {},
     "output_type": "execute_result"
    }
   ],
   "source": [
    "train['length'] = train['text'].apply(lambda x: len(word_tokenize(x)))\n",
    "train"
   ]
  },
  {
   "cell_type": "code",
   "execution_count": 24,
   "id": "c5fa875e",
   "metadata": {},
   "outputs": [
    {
     "data": {
      "text/html": [
       "<div>\n",
       "<style scoped>\n",
       "    .dataframe tbody tr th:only-of-type {\n",
       "        vertical-align: middle;\n",
       "    }\n",
       "\n",
       "    .dataframe tbody tr th {\n",
       "        vertical-align: top;\n",
       "    }\n",
       "\n",
       "    .dataframe thead th {\n",
       "        text-align: right;\n",
       "    }\n",
       "</style>\n",
       "<table border=\"1\" class=\"dataframe\">\n",
       "  <thead>\n",
       "    <tr style=\"text-align: right;\">\n",
       "      <th></th>\n",
       "      <th>id</th>\n",
       "      <th>keyword</th>\n",
       "      <th>location</th>\n",
       "      <th>text</th>\n",
       "      <th>target</th>\n",
       "      <th>length</th>\n",
       "    </tr>\n",
       "  </thead>\n",
       "  <tbody>\n",
       "    <tr>\n",
       "      <th>4</th>\n",
       "      <td>4</td>\n",
       "      <td>ablaze</td>\n",
       "      <td>NaN</td>\n",
       "      <td>\"Lord Jesus, your love brings freedom and pard...</td>\n",
       "      <td>0</td>\n",
       "      <td>28</td>\n",
       "    </tr>\n",
       "    <tr>\n",
       "      <th>5</th>\n",
       "      <td>5</td>\n",
       "      <td>ablaze</td>\n",
       "      <td>OC</td>\n",
       "      <td>If this child was Chinese, this tweet would ha...</td>\n",
       "      <td>0</td>\n",
       "      <td>26</td>\n",
       "    </tr>\n",
       "    <tr>\n",
       "      <th>8</th>\n",
       "      <td>8</td>\n",
       "      <td>ablaze</td>\n",
       "      <td>Accra, Ghana</td>\n",
       "      <td>National Security Minister, Kan Dapaah's side ...</td>\n",
       "      <td>0</td>\n",
       "      <td>22</td>\n",
       "    </tr>\n",
       "    <tr>\n",
       "      <th>9</th>\n",
       "      <td>9</td>\n",
       "      <td>ablaze</td>\n",
       "      <td>Searching</td>\n",
       "      <td>This creature who’s soul is no longer clarent ...</td>\n",
       "      <td>0</td>\n",
       "      <td>22</td>\n",
       "    </tr>\n",
       "    <tr>\n",
       "      <th>11</th>\n",
       "      <td>11</td>\n",
       "      <td>ablaze</td>\n",
       "      <td>NaN</td>\n",
       "      <td>Social media went bananas after Chuba Hubbard ...</td>\n",
       "      <td>0</td>\n",
       "      <td>21</td>\n",
       "    </tr>\n",
       "    <tr>\n",
       "      <th>...</th>\n",
       "      <td>...</td>\n",
       "      <td>...</td>\n",
       "      <td>...</td>\n",
       "      <td>...</td>\n",
       "      <td>...</td>\n",
       "      <td>...</td>\n",
       "    </tr>\n",
       "    <tr>\n",
       "      <th>7970</th>\n",
       "      <td>7970</td>\n",
       "      <td>oil%20spill</td>\n",
       "      <td>A cave somewhere, probably</td>\n",
       "      <td>Really helps me feel seen with my oil spill ra...</td>\n",
       "      <td>0</td>\n",
       "      <td>14</td>\n",
       "    </tr>\n",
       "    <tr>\n",
       "      <th>7971</th>\n",
       "      <td>7971</td>\n",
       "      <td>oil%20spill</td>\n",
       "      <td>NaN</td>\n",
       "      <td>Oysters have been in short supply because of e...</td>\n",
       "      <td>0</td>\n",
       "      <td>22</td>\n",
       "    </tr>\n",
       "    <tr>\n",
       "      <th>7972</th>\n",
       "      <td>7972</td>\n",
       "      <td>outbreak</td>\n",
       "      <td>NaN</td>\n",
       "      <td>#HongKong reporters covering Wuhan pneumonia o...</td>\n",
       "      <td>0</td>\n",
       "      <td>17</td>\n",
       "    </tr>\n",
       "    <tr>\n",
       "      <th>7973</th>\n",
       "      <td>7973</td>\n",
       "      <td>outbreak</td>\n",
       "      <td>NaN</td>\n",
       "      <td>Hi Michael. I'm BB. I'm very angry that you an...</td>\n",
       "      <td>0</td>\n",
       "      <td>25</td>\n",
       "    </tr>\n",
       "    <tr>\n",
       "      <th>7977</th>\n",
       "      <td>7977</td>\n",
       "      <td>outbreak</td>\n",
       "      <td>Barcelona</td>\n",
       "      <td>Check out “Pandemic: How to Prevent an Outbrea...</td>\n",
       "      <td>0</td>\n",
       "      <td>19</td>\n",
       "    </tr>\n",
       "  </tbody>\n",
       "</table>\n",
       "<p>6603 rows × 6 columns</p>\n",
       "</div>"
      ],
      "text/plain": [
       "        id      keyword                    location  \\\n",
       "4        4       ablaze                         NaN   \n",
       "5        5       ablaze                          OC   \n",
       "8        8       ablaze                Accra, Ghana   \n",
       "9        9       ablaze                   Searching   \n",
       "11      11       ablaze                         NaN   \n",
       "...    ...          ...                         ...   \n",
       "7970  7970  oil%20spill  A cave somewhere, probably   \n",
       "7971  7971  oil%20spill                         NaN   \n",
       "7972  7972     outbreak                         NaN   \n",
       "7973  7973     outbreak                         NaN   \n",
       "7977  7977     outbreak                   Barcelona   \n",
       "\n",
       "                                                   text  target  length  \n",
       "4     \"Lord Jesus, your love brings freedom and pard...       0      28  \n",
       "5     If this child was Chinese, this tweet would ha...       0      26  \n",
       "8     National Security Minister, Kan Dapaah's side ...       0      22  \n",
       "9     This creature who’s soul is no longer clarent ...       0      22  \n",
       "11    Social media went bananas after Chuba Hubbard ...       0      21  \n",
       "...                                                 ...     ...     ...  \n",
       "7970  Really helps me feel seen with my oil spill ra...       0      14  \n",
       "7971  Oysters have been in short supply because of e...       0      22  \n",
       "7972  #HongKong reporters covering Wuhan pneumonia o...       0      17  \n",
       "7973  Hi Michael. I'm BB. I'm very angry that you an...       0      25  \n",
       "7977  Check out “Pandemic: How to Prevent an Outbrea...       0      19  \n",
       "\n",
       "[6603 rows x 6 columns]"
      ]
     },
     "execution_count": 24,
     "metadata": {},
     "output_type": "execute_result"
    }
   ],
   "source": [
    "train[train.target == 0 ]"
   ]
  },
  {
   "cell_type": "code",
   "execution_count": 25,
   "id": "69122d02",
   "metadata": {},
   "outputs": [
    {
     "data": {
      "text/html": [
       "<div>\n",
       "<style scoped>\n",
       "    .dataframe tbody tr th:only-of-type {\n",
       "        vertical-align: middle;\n",
       "    }\n",
       "\n",
       "    .dataframe tbody tr th {\n",
       "        vertical-align: top;\n",
       "    }\n",
       "\n",
       "    .dataframe thead th {\n",
       "        text-align: right;\n",
       "    }\n",
       "</style>\n",
       "<table border=\"1\" class=\"dataframe\">\n",
       "  <thead>\n",
       "    <tr style=\"text-align: right;\">\n",
       "      <th></th>\n",
       "      <th>id</th>\n",
       "      <th>keyword</th>\n",
       "      <th>location</th>\n",
       "      <th>text</th>\n",
       "      <th>target</th>\n",
       "      <th>length</th>\n",
       "    </tr>\n",
       "  </thead>\n",
       "  <tbody>\n",
       "    <tr>\n",
       "      <th>0</th>\n",
       "      <td>0</td>\n",
       "      <td>ablaze</td>\n",
       "      <td>NaN</td>\n",
       "      <td>Communal violence in Bhainsa, Telangana. \"Ston...</td>\n",
       "      <td>1</td>\n",
       "      <td>23</td>\n",
       "    </tr>\n",
       "    <tr>\n",
       "      <th>1</th>\n",
       "      <td>1</td>\n",
       "      <td>ablaze</td>\n",
       "      <td>NaN</td>\n",
       "      <td>Telangana: Section 144 has been imposed in Bha...</td>\n",
       "      <td>1</td>\n",
       "      <td>26</td>\n",
       "    </tr>\n",
       "    <tr>\n",
       "      <th>2</th>\n",
       "      <td>2</td>\n",
       "      <td>ablaze</td>\n",
       "      <td>New York City</td>\n",
       "      <td>Arsonist sets cars ablaze at dealership https:...</td>\n",
       "      <td>1</td>\n",
       "      <td>9</td>\n",
       "    </tr>\n",
       "    <tr>\n",
       "      <th>3</th>\n",
       "      <td>3</td>\n",
       "      <td>ablaze</td>\n",
       "      <td>Morgantown, WV</td>\n",
       "      <td>Arsonist sets cars ablaze at dealership https:...</td>\n",
       "      <td>1</td>\n",
       "      <td>12</td>\n",
       "    </tr>\n",
       "    <tr>\n",
       "      <th>6</th>\n",
       "      <td>6</td>\n",
       "      <td>ablaze</td>\n",
       "      <td>London, England</td>\n",
       "      <td>Several houses have been set ablaze in Ngemsib...</td>\n",
       "      <td>1</td>\n",
       "      <td>24</td>\n",
       "    </tr>\n",
       "    <tr>\n",
       "      <th>...</th>\n",
       "      <td>...</td>\n",
       "      <td>...</td>\n",
       "      <td>...</td>\n",
       "      <td>...</td>\n",
       "      <td>...</td>\n",
       "      <td>...</td>\n",
       "    </tr>\n",
       "    <tr>\n",
       "      <th>7967</th>\n",
       "      <td>7967</td>\n",
       "      <td>oil%20spill</td>\n",
       "      <td>Queensland, Australia</td>\n",
       "      <td>We have reports of an Oil Spill on Mount Crosb...</td>\n",
       "      <td>1</td>\n",
       "      <td>26</td>\n",
       "    </tr>\n",
       "    <tr>\n",
       "      <th>7974</th>\n",
       "      <td>7974</td>\n",
       "      <td>outbreak</td>\n",
       "      <td>Philippines</td>\n",
       "      <td>In a statement, it said \"evidence is highly su...</td>\n",
       "      <td>1</td>\n",
       "      <td>21</td>\n",
       "    </tr>\n",
       "    <tr>\n",
       "      <th>7975</th>\n",
       "      <td>7975</td>\n",
       "      <td>outbreak</td>\n",
       "      <td>NaN</td>\n",
       "      <td>Mystery China Pneumonia Outbreak Likely Caused...</td>\n",
       "      <td>1</td>\n",
       "      <td>14</td>\n",
       "    </tr>\n",
       "    <tr>\n",
       "      <th>7976</th>\n",
       "      <td>7976</td>\n",
       "      <td>outbreak</td>\n",
       "      <td>NaN</td>\n",
       "      <td>Just a few weeks back we were shocked with a n...</td>\n",
       "      <td>1</td>\n",
       "      <td>32</td>\n",
       "    </tr>\n",
       "    <tr>\n",
       "      <th>7978</th>\n",
       "      <td>7978</td>\n",
       "      <td>outbreak</td>\n",
       "      <td>Quezon City, National Capital Region</td>\n",
       "      <td>In a statement, it said \"evidence is highly su...</td>\n",
       "      <td>1</td>\n",
       "      <td>24</td>\n",
       "    </tr>\n",
       "  </tbody>\n",
       "</table>\n",
       "<p>1376 rows × 6 columns</p>\n",
       "</div>"
      ],
      "text/plain": [
       "        id      keyword                              location  \\\n",
       "0        0       ablaze                                   NaN   \n",
       "1        1       ablaze                                   NaN   \n",
       "2        2       ablaze                         New York City   \n",
       "3        3       ablaze                        Morgantown, WV   \n",
       "6        6       ablaze                       London, England   \n",
       "...    ...          ...                                   ...   \n",
       "7967  7967  oil%20spill                 Queensland, Australia   \n",
       "7974  7974     outbreak                           Philippines   \n",
       "7975  7975     outbreak                                   NaN   \n",
       "7976  7976     outbreak                                   NaN   \n",
       "7978  7978     outbreak  Quezon City, National Capital Region   \n",
       "\n",
       "                                                   text  target  length  \n",
       "0     Communal violence in Bhainsa, Telangana. \"Ston...       1      23  \n",
       "1     Telangana: Section 144 has been imposed in Bha...       1      26  \n",
       "2     Arsonist sets cars ablaze at dealership https:...       1       9  \n",
       "3     Arsonist sets cars ablaze at dealership https:...       1      12  \n",
       "6     Several houses have been set ablaze in Ngemsib...       1      24  \n",
       "...                                                 ...     ...     ...  \n",
       "7967  We have reports of an Oil Spill on Mount Crosb...       1      26  \n",
       "7974  In a statement, it said \"evidence is highly su...       1      21  \n",
       "7975  Mystery China Pneumonia Outbreak Likely Caused...       1      14  \n",
       "7976  Just a few weeks back we were shocked with a n...       1      32  \n",
       "7978  In a statement, it said \"evidence is highly su...       1      24  \n",
       "\n",
       "[1376 rows x 6 columns]"
      ]
     },
     "execution_count": 25,
     "metadata": {},
     "output_type": "execute_result"
    }
   ],
   "source": [
    "train[train.target == 1]"
   ]
  },
  {
   "cell_type": "code",
   "execution_count": 26,
   "id": "44d2388a",
   "metadata": {},
   "outputs": [],
   "source": [
    "train.drop(columns=['length'], inplace=True)"
   ]
  },
  {
   "cell_type": "markdown",
   "id": "4e438de6",
   "metadata": {},
   "source": [
    "### Preparing the data"
   ]
  },
  {
   "cell_type": "code",
   "execution_count": 28,
   "id": "23c7b784",
   "metadata": {},
   "outputs": [
    {
     "name": "stdout",
     "output_type": "stream",
     "text": [
      "missing values: Training set\n"
     ]
    },
    {
     "data": {
      "text/plain": [
       "id             0\n",
       "keyword        0\n",
       "location    2371\n",
       "text           0\n",
       "target         0\n",
       "dtype: int64"
      ]
     },
     "execution_count": 28,
     "metadata": {},
     "output_type": "execute_result"
    }
   ],
   "source": [
    "print(\"missing values: Training set\")\n",
    "missing_values = train.isna().sum()\n",
    "missing_values"
   ]
  },
  {
   "cell_type": "code",
   "execution_count": 29,
   "id": "414d0e36",
   "metadata": {},
   "outputs": [
    {
     "name": "stdout",
     "output_type": "stream",
     "text": [
      "missing values: testing set\n"
     ]
    },
    {
     "data": {
      "text/plain": [
       "id             0\n",
       "keyword        0\n",
       "location    1047\n",
       "text           0\n",
       "target         0\n",
       "dtype: int64"
      ]
     },
     "execution_count": 29,
     "metadata": {},
     "output_type": "execute_result"
    }
   ],
   "source": [
    "print(\"missing values: testing set\")\n",
    "missing_values = test.isna().sum()\n",
    "missing_values"
   ]
  },
  {
   "cell_type": "code",
   "execution_count": 30,
   "id": "b1dcf956",
   "metadata": {},
   "outputs": [],
   "source": [
    "for df in [train , test]:\n",
    "    for e in ['keyword', 'location']:\n",
    "        df[e] = df[e].fillna('No_data')"
   ]
  },
  {
   "cell_type": "markdown",
   "id": "e72751ee",
   "metadata": {},
   "source": [
    "### Preprocessing :"
   ]
  },
  {
   "cell_type": "code",
   "execution_count": 31,
   "id": "ce6a2e59",
   "metadata": {},
   "outputs": [
    {
     "name": "stderr",
     "output_type": "stream",
     "text": [
      "[nltk_data] Downloading package wordnet to\n",
      "[nltk_data]     C:\\Users\\hp\\AppData\\Roaming\\nltk_data...\n",
      "[nltk_data] Downloading package stopwords to\n",
      "[nltk_data]     C:\\Users\\hp\\AppData\\Roaming\\nltk_data...\n",
      "[nltk_data]   Unzipping corpora\\stopwords.zip.\n"
     ]
    },
    {
     "data": {
      "text/html": [
       "<div>\n",
       "<style scoped>\n",
       "    .dataframe tbody tr th:only-of-type {\n",
       "        vertical-align: middle;\n",
       "    }\n",
       "\n",
       "    .dataframe tbody tr th {\n",
       "        vertical-align: top;\n",
       "    }\n",
       "\n",
       "    .dataframe thead th {\n",
       "        text-align: right;\n",
       "    }\n",
       "</style>\n",
       "<table border=\"1\" class=\"dataframe\">\n",
       "  <thead>\n",
       "    <tr style=\"text-align: right;\">\n",
       "      <th></th>\n",
       "      <th>id</th>\n",
       "      <th>keyword</th>\n",
       "      <th>location</th>\n",
       "      <th>text</th>\n",
       "      <th>target</th>\n",
       "    </tr>\n",
       "  </thead>\n",
       "  <tbody>\n",
       "    <tr>\n",
       "      <th>0</th>\n",
       "      <td>0</td>\n",
       "      <td>ablaze</td>\n",
       "      <td>No_data</td>\n",
       "      <td>Communal violence in Bhainsa, Telangana. \"Ston...</td>\n",
       "      <td>1</td>\n",
       "    </tr>\n",
       "    <tr>\n",
       "      <th>1</th>\n",
       "      <td>1</td>\n",
       "      <td>ablaze</td>\n",
       "      <td>No_data</td>\n",
       "      <td>Telangana: Section 144 has been imposed in Bha...</td>\n",
       "      <td>1</td>\n",
       "    </tr>\n",
       "    <tr>\n",
       "      <th>2</th>\n",
       "      <td>2</td>\n",
       "      <td>ablaze</td>\n",
       "      <td>New York City</td>\n",
       "      <td>Arsonist sets cars ablaze at dealership https:...</td>\n",
       "      <td>1</td>\n",
       "    </tr>\n",
       "    <tr>\n",
       "      <th>3</th>\n",
       "      <td>3</td>\n",
       "      <td>ablaze</td>\n",
       "      <td>Morgantown, WV</td>\n",
       "      <td>Arsonist sets cars ablaze at dealership https:...</td>\n",
       "      <td>1</td>\n",
       "    </tr>\n",
       "    <tr>\n",
       "      <th>4</th>\n",
       "      <td>4</td>\n",
       "      <td>ablaze</td>\n",
       "      <td>No_data</td>\n",
       "      <td>\"Lord Jesus, your love brings freedom and pard...</td>\n",
       "      <td>0</td>\n",
       "    </tr>\n",
       "  </tbody>\n",
       "</table>\n",
       "</div>"
      ],
      "text/plain": [
       "   id keyword        location  \\\n",
       "0   0  ablaze         No_data   \n",
       "1   1  ablaze         No_data   \n",
       "2   2  ablaze   New York City   \n",
       "3   3  ablaze  Morgantown, WV   \n",
       "4   4  ablaze         No_data   \n",
       "\n",
       "                                                text  target  \n",
       "0  Communal violence in Bhainsa, Telangana. \"Ston...       1  \n",
       "1  Telangana: Section 144 has been imposed in Bha...       1  \n",
       "2  Arsonist sets cars ablaze at dealership https:...       1  \n",
       "3  Arsonist sets cars ablaze at dealership https:...       1  \n",
       "4  \"Lord Jesus, your love brings freedom and pard...       0  "
      ]
     },
     "execution_count": 31,
     "metadata": {},
     "output_type": "execute_result"
    }
   ],
   "source": [
    "nltk.download('wordnet')\n",
    "nltk.download('stopwords')\n",
    "stoplist = set(stopwords.words('english'))\n",
    "\n",
    "test['text'].apply(lambda x: ' '.join([word for word in x.split() if word not in (stoplist)]))\n",
    "test.head()\n",
    "train['text'].apply(lambda x: ' '.join([word for word in x.split() if word not in (stoplist)]))\n",
    "train.head()"
   ]
  },
  {
   "cell_type": "code",
   "execution_count": 73,
   "id": "de200419",
   "metadata": {},
   "outputs": [],
   "source": [
    "def Clean(text):\n",
    "    \n",
    "    text = re.sub(r'https?:\\/\\/.*[\\r\\n]*', '', text)\n",
    "    text = re.sub(r'http?:\\/\\/.*[\\r\\n]*', '', text) #remove URL\n",
    "    \n",
    "    text=text.replace(r'&amp;?',r'and')\n",
    "    text=text.replace(r'&lt;',r'<')\n",
    "    text=text.replace(r'&gt;',r'>') #remove special character \n",
    "    \n",
    "    text = re.sub(r\"(?:\\@)\\w+\", '', text)\n",
    "    text=text.encode(\"ascii\",errors=\"ignore\").decode()\n",
    "    text=re.sub(r'[:\"#$%&\\*+,-/:;<=>@\\\\^_`{|}~]+','',text)\n",
    "    \n",
    "    text=re.sub(r'[!]+','!',text)\n",
    "    text=re.sub(r'[?]+','?',text)\n",
    "    text=re.sub(r'[.]+','.',text)\n",
    "   \n",
    "    text=re.sub(r\"'\",\"\",text)\n",
    "    text=re.sub(r\"\\(\",\"\",text)\n",
    "    text=re.sub(r\"\\)\",\"\",text)\n",
    "    \n",
    "    text=\" \".join(text.split())\n",
    "    return text\n",
    "\n",
    "def stemmer(text):\n",
    "    stem_text = [PorterStemmer().stem(i) for i in text]\n",
    "    return stem_text\n",
    "\n",
    "def lemmatizer(text):\n",
    "    lem_text = [WordNetLemmatizer().lemmatize(i) for i in text]\n",
    "    return lem_text"
   ]
  },
  {
   "cell_type": "code",
   "execution_count": 74,
   "id": "f8c495c4",
   "metadata": {},
   "outputs": [],
   "source": [
    "train['text']=train['text'].apply(lambda x: Clean(x))\n",
    "test['text']=test['text'].apply(lambda x: Clean(x))"
   ]
  },
  {
   "cell_type": "code",
   "execution_count": 75,
   "id": "7dc888c8",
   "metadata": {},
   "outputs": [
    {
     "data": {
      "text/plain": [
       "0       Communal violence in Bhainsa Telangana Stones ...\n",
       "1       Telangana Section 144 has been imposed in Bhai...\n",
       "2                 Arsonist sets cars ablaze at dealership\n",
       "3                 Arsonist sets cars ablaze at dealership\n",
       "4       Lord Jesus your love brings freedom and pardon...\n",
       "                              ...                        \n",
       "7974    In a statement it said evidence is highly sugg...\n",
       "7975    Mystery China Pneumonia Outbreak Likely Caused...\n",
       "7976    Just a few weeks back we were shocked with a n...\n",
       "7977    Check out Pandemic How to Prevent an Outbreak ...\n",
       "7978    In a statement it said evidence is highly sugg...\n",
       "Name: text, Length: 7979, dtype: object"
      ]
     },
     "execution_count": 75,
     "metadata": {},
     "output_type": "execute_result"
    }
   ],
   "source": [
    "train['text']"
   ]
  },
  {
   "cell_type": "markdown",
   "id": "d2112042",
   "metadata": {},
   "source": [
    "### Tokenizing "
   ]
  },
  {
   "cell_type": "code",
   "execution_count": 34,
   "id": "afd9263f",
   "metadata": {},
   "outputs": [
    {
     "data": {
      "text/html": [
       "<div>\n",
       "<style scoped>\n",
       "    .dataframe tbody tr th:only-of-type {\n",
       "        vertical-align: middle;\n",
       "    }\n",
       "\n",
       "    .dataframe tbody tr th {\n",
       "        vertical-align: top;\n",
       "    }\n",
       "\n",
       "    .dataframe thead th {\n",
       "        text-align: right;\n",
       "    }\n",
       "</style>\n",
       "<table border=\"1\" class=\"dataframe\">\n",
       "  <thead>\n",
       "    <tr style=\"text-align: right;\">\n",
       "      <th></th>\n",
       "      <th>id</th>\n",
       "      <th>keyword</th>\n",
       "      <th>location</th>\n",
       "      <th>text</th>\n",
       "      <th>target</th>\n",
       "      <th>text_tokens</th>\n",
       "    </tr>\n",
       "  </thead>\n",
       "  <tbody>\n",
       "    <tr>\n",
       "      <th>0</th>\n",
       "      <td>0</td>\n",
       "      <td>ablaze</td>\n",
       "      <td>No_data</td>\n",
       "      <td>Communal violence in Bhainsa Telangana Stones ...</td>\n",
       "      <td>1</td>\n",
       "      <td>[Communal, violence, in, Bhainsa, Telangana, S...</td>\n",
       "    </tr>\n",
       "    <tr>\n",
       "      <th>1</th>\n",
       "      <td>1</td>\n",
       "      <td>ablaze</td>\n",
       "      <td>No_data</td>\n",
       "      <td>Telangana Section 144 has been imposed in Bhai...</td>\n",
       "      <td>1</td>\n",
       "      <td>[Telangana, Section, 144, has, been, imposed, ...</td>\n",
       "    </tr>\n",
       "    <tr>\n",
       "      <th>2</th>\n",
       "      <td>2</td>\n",
       "      <td>ablaze</td>\n",
       "      <td>New York City</td>\n",
       "      <td>Arsonist sets cars ablaze at dealership</td>\n",
       "      <td>1</td>\n",
       "      <td>[Arsonist, sets, cars, ablaze, at, dealership]</td>\n",
       "    </tr>\n",
       "    <tr>\n",
       "      <th>3</th>\n",
       "      <td>3</td>\n",
       "      <td>ablaze</td>\n",
       "      <td>Morgantown, WV</td>\n",
       "      <td>Arsonist sets cars ablaze at dealership</td>\n",
       "      <td>1</td>\n",
       "      <td>[Arsonist, sets, cars, ablaze, at, dealership]</td>\n",
       "    </tr>\n",
       "    <tr>\n",
       "      <th>4</th>\n",
       "      <td>4</td>\n",
       "      <td>ablaze</td>\n",
       "      <td>No_data</td>\n",
       "      <td>Lord Jesus your love brings freedom and pardon...</td>\n",
       "      <td>0</td>\n",
       "      <td>[Lord, Jesus, your, love, brings, freedom, and...</td>\n",
       "    </tr>\n",
       "  </tbody>\n",
       "</table>\n",
       "</div>"
      ],
      "text/plain": [
       "   id keyword        location  \\\n",
       "0   0  ablaze         No_data   \n",
       "1   1  ablaze         No_data   \n",
       "2   2  ablaze   New York City   \n",
       "3   3  ablaze  Morgantown, WV   \n",
       "4   4  ablaze         No_data   \n",
       "\n",
       "                                                text  target  \\\n",
       "0  Communal violence in Bhainsa Telangana Stones ...       1   \n",
       "1  Telangana Section 144 has been imposed in Bhai...       1   \n",
       "2            Arsonist sets cars ablaze at dealership       1   \n",
       "3            Arsonist sets cars ablaze at dealership       1   \n",
       "4  Lord Jesus your love brings freedom and pardon...       0   \n",
       "\n",
       "                                         text_tokens  \n",
       "0  [Communal, violence, in, Bhainsa, Telangana, S...  \n",
       "1  [Telangana, Section, 144, has, been, imposed, ...  \n",
       "2     [Arsonist, sets, cars, ablaze, at, dealership]  \n",
       "3     [Arsonist, sets, cars, ablaze, at, dealership]  \n",
       "4  [Lord, Jesus, your, love, brings, freedom, and...  "
      ]
     },
     "execution_count": 34,
     "metadata": {},
     "output_type": "execute_result"
    }
   ],
   "source": [
    "train['text_tokens'] = train['text'].apply(lambda x: word_tokenize(x))\n",
    "test['text_tokens']  = train['text'].apply(lambda x: word_tokenize(x))\n",
    "train.head()"
   ]
  },
  {
   "cell_type": "code",
   "execution_count": 36,
   "id": "3bc5e830",
   "metadata": {},
   "outputs": [
    {
     "name": "stderr",
     "output_type": "stream",
     "text": [
      "[nltk_data] Downloading package omw-1.4 to\n",
      "[nltk_data]     C:\\Users\\hp\\AppData\\Roaming\\nltk_data...\n"
     ]
    },
    {
     "data": {
      "text/plain": [
       "True"
      ]
     },
     "execution_count": 36,
     "metadata": {},
     "output_type": "execute_result"
    }
   ],
   "source": [
    "nltk.download('omw-1.4')"
   ]
  },
  {
   "cell_type": "code",
   "execution_count": 80,
   "id": "ac3df862",
   "metadata": {},
   "outputs": [],
   "source": [
    "train['text_tokens']=train['text'].apply(lambda x: stemmer(x))\n",
    "test['text_tokens']=test['text'].apply(lambda x: stemmer(x))\n",
    "\n",
    "train['text_tokens']=train['text'].apply(lambda x: lemmatizer(x))\n",
    "test['text_tokens']=test['text'].apply(lambda x: lemmatizer(x))"
   ]
  },
  {
   "cell_type": "code",
   "execution_count": 84,
   "id": "831817f9",
   "metadata": {},
   "outputs": [
    {
     "data": {
      "text/plain": [
       "0       Communal violence in Bhainsa Telangana Stones ...\n",
       "1       Telangana Section 144 has been imposed in Bhai...\n",
       "2                 Arsonist sets cars ablaze at dealership\n",
       "3                 Arsonist sets cars ablaze at dealership\n",
       "4       Lord Jesus your love brings freedom and pardon...\n",
       "                              ...                        \n",
       "7974    In a statement it said evidence is highly sugg...\n",
       "7975    Mystery China Pneumonia Outbreak Likely Caused...\n",
       "7976    Just a few weeks back we were shocked with a n...\n",
       "7977    Check out Pandemic How to Prevent an Outbreak ...\n",
       "7978    In a statement it said evidence is highly sugg...\n",
       "Name: text, Length: 7979, dtype: object"
      ]
     },
     "execution_count": 84,
     "metadata": {},
     "output_type": "execute_result"
    }
   ],
   "source": [
    "train['text']"
   ]
  },
  {
   "cell_type": "code",
   "execution_count": 83,
   "id": "63601513",
   "metadata": {},
   "outputs": [
    {
     "data": {
      "text/plain": [
       "0       [C, o, m, m, u, n, a, l,  , v, i, o, l, e, n, ...\n",
       "1       [T, e, l, a, n, g, a, n, a,  , S, e, c, t, i, ...\n",
       "2       [A, r, s, o, n, i, s, t,  , s, e, t, s,  , c, ...\n",
       "3       [A, r, s, o, n, i, s, t,  , s, e, t, s,  , c, ...\n",
       "4       [L, o, r, d,  , J, e, s, u, s,  , y, o, u, r, ...\n",
       "                              ...                        \n",
       "7974    [I, n,  , a,  , s, t, a, t, e, m, e, n, t,  , ...\n",
       "7975    [M, y, s, t, e, r, y,  , C, h, i, n, a,  , P, ...\n",
       "7976    [J, u, s, t,  , a,  , f, e, w,  , w, e, e, k, ...\n",
       "7977    [C, h, e, c, k,  , o, u, t,  , P, a, n, d, e, ...\n",
       "7978    [I, n,  , a,  , s, t, a, t, e, m, e, n, t,  , ...\n",
       "Name: text_tokens, Length: 7979, dtype: object"
      ]
     },
     "execution_count": 83,
     "metadata": {},
     "output_type": "execute_result"
    }
   ],
   "source": [
    "train['text_tokens']\n"
   ]
  },
  {
   "cell_type": "code",
   "execution_count": 40,
   "id": "411d903f",
   "metadata": {},
   "outputs": [
    {
     "data": {
      "text/plain": [
       "'If this child was Chinese this tweet would have gone viral Social media would be ablaze SNL would have made a racist j'"
      ]
     },
     "execution_count": 40,
     "metadata": {},
     "output_type": "execute_result"
    }
   ],
   "source": [
    "train['text'][5]"
   ]
  },
  {
   "cell_type": "code",
   "execution_count": 41,
   "id": "e8408d1f",
   "metadata": {},
   "outputs": [
    {
     "data": {
      "text/plain": [
       "'The forgotten nasty wreck between Landon Cassill and Jeffery Earnhardt at the Brickyard in 2018'"
      ]
     },
     "execution_count": 41,
     "metadata": {},
     "output_type": "execute_result"
    }
   ],
   "source": [
    "\n",
    "test['text'][3260]"
   ]
  },
  {
   "cell_type": "code",
   "execution_count": 42,
   "id": "8b8c6cf9",
   "metadata": {},
   "outputs": [
    {
     "data": {
      "text/plain": [
       "['A',\n",
       " 's',\n",
       " 'a',\n",
       " 'n',\n",
       " 's',\n",
       " 'o',\n",
       " 'l',\n",
       " ' ',\n",
       " 'A',\n",
       " ' ',\n",
       " 'B',\n",
       " 'J',\n",
       " 'P',\n",
       " ' ',\n",
       " 'o',\n",
       " 'f',\n",
       " 'f',\n",
       " 'i',\n",
       " 'c',\n",
       " 'e',\n",
       " ' ',\n",
       " 'i',\n",
       " 'n',\n",
       " ' ',\n",
       " 'S',\n",
       " 'a',\n",
       " 'l',\n",
       " 'a',\n",
       " 'n',\n",
       " 'p',\n",
       " 'u',\n",
       " 'r',\n",
       " ' ',\n",
       " 'v',\n",
       " 'i',\n",
       " 'l',\n",
       " 'l',\n",
       " 'a',\n",
       " 'g',\n",
       " 'e',\n",
       " ' ',\n",
       " 'w',\n",
       " 'a',\n",
       " 's',\n",
       " ' ',\n",
       " 's',\n",
       " 'e',\n",
       " 't',\n",
       " ' ',\n",
       " 'a',\n",
       " 'b',\n",
       " 'l',\n",
       " 'a',\n",
       " 'z',\n",
       " 'e',\n",
       " ' ',\n",
       " 'l',\n",
       " 'a',\n",
       " 's',\n",
       " 't',\n",
       " ' ',\n",
       " 'n',\n",
       " 'i',\n",
       " 'g',\n",
       " 'h',\n",
       " 't',\n",
       " ' ',\n",
       " 'B',\n",
       " 'J',\n",
       " 'P',\n",
       " ' ',\n",
       " 'h',\n",
       " 'a',\n",
       " 's',\n",
       " ' ',\n",
       " 'a',\n",
       " 'l',\n",
       " 'l',\n",
       " 'e',\n",
       " 'g',\n",
       " 'e',\n",
       " 'd',\n",
       " ' ',\n",
       " 't',\n",
       " 'h',\n",
       " 'a',\n",
       " 't',\n",
       " ' ',\n",
       " 'T',\n",
       " 'M',\n",
       " 'C',\n",
       " ' ',\n",
       " 'i',\n",
       " 's',\n",
       " ' ',\n",
       " 'b',\n",
       " 'e',\n",
       " 'h',\n",
       " 'i',\n",
       " 'n',\n",
       " 'd',\n",
       " ' ',\n",
       " 't',\n",
       " 'h',\n",
       " 'e',\n",
       " ' ',\n",
       " 'i',\n",
       " 'n',\n",
       " 'c',\n",
       " 'i',\n",
       " 'd',\n",
       " 'e',\n",
       " 'n',\n",
       " 't',\n",
       " ' ',\n",
       " 'P',\n",
       " 'o',\n",
       " 'l',\n",
       " 'i',\n",
       " 'c',\n",
       " 'e',\n",
       " ' ',\n",
       " 'h',\n",
       " 'a',\n",
       " 's',\n",
       " ' ',\n",
       " 'b']"
      ]
     },
     "execution_count": 42,
     "metadata": {},
     "output_type": "execute_result"
    }
   ],
   "source": [
    "train['text_tokens'][7]"
   ]
  },
  {
   "cell_type": "code",
   "execution_count": 43,
   "id": "b98e26cd",
   "metadata": {},
   "outputs": [
    {
     "data": {
      "text/plain": [
       "['i',\n",
       " ' ',\n",
       " 'c',\n",
       " 'a',\n",
       " 'n',\n",
       " ' ',\n",
       " 'o',\n",
       " 'n',\n",
       " 'l',\n",
       " 'y',\n",
       " ' ',\n",
       " 'r',\n",
       " 'e',\n",
       " 'm',\n",
       " 'e',\n",
       " 'm',\n",
       " 'b',\n",
       " 'e',\n",
       " 'r',\n",
       " ' ',\n",
       " 't',\n",
       " 'h',\n",
       " 'e',\n",
       " ' ',\n",
       " 'o',\n",
       " 'u',\n",
       " 't',\n",
       " 'b',\n",
       " 'r',\n",
       " 'e',\n",
       " 'a',\n",
       " 'k',\n",
       " ' ',\n",
       " 'o',\n",
       " 'f',\n",
       " ' ',\n",
       " 's',\n",
       " 'u',\n",
       " 'b',\n",
       " ' ',\n",
       " 'a',\n",
       " 'n',\n",
       " 'd',\n",
       " ' ',\n",
       " 'd',\n",
       " 'o',\n",
       " 'm',\n",
       " ' ',\n",
       " 'r',\n",
       " 'e',\n",
       " 'l',\n",
       " 'a',\n",
       " 't',\n",
       " 'i',\n",
       " 'o',\n",
       " 'n',\n",
       " 's',\n",
       " 'h',\n",
       " 'i',\n",
       " 'p',\n",
       " 's',\n",
       " ' ',\n",
       " 'i',\n",
       " 'n',\n",
       " ' ',\n",
       " 'j',\n",
       " 'a',\n",
       " 'n',\n",
       " 'u',\n",
       " 'a',\n",
       " 'r',\n",
       " 'y',\n",
       " ' ',\n",
       " 'l',\n",
       " 'a',\n",
       " 's',\n",
       " 't',\n",
       " ' ',\n",
       " 'y',\n",
       " 'e',\n",
       " 'a',\n",
       " 'r',\n",
       " ' ',\n",
       " 'a',\n",
       " 'n',\n",
       " 'd',\n",
       " ' ',\n",
       " 'h',\n",
       " 'o',\n",
       " 'w',\n",
       " ' ',\n",
       " 'E',\n",
       " 'v',\n",
       " 'e',\n",
       " 'r',\n",
       " 'y',\n",
       " 'o',\n",
       " 'n',\n",
       " 'e',\n",
       " ' ',\n",
       " 'u',\n",
       " 's',\n",
       " 'e',\n",
       " 'd',\n",
       " ' ',\n",
       " 't',\n",
       " 'o',\n",
       " ' ',\n",
       " 't',\n",
       " 'y',\n",
       " 'p',\n",
       " 'e',\n",
       " ' ',\n",
       " 'l',\n",
       " 'i',\n",
       " 'k',\n",
       " 'e',\n",
       " ' ',\n",
       " 't',\n",
       " 'h',\n",
       " 'i',\n",
       " 's']"
      ]
     },
     "execution_count": 43,
     "metadata": {},
     "output_type": "execute_result"
    }
   ],
   "source": [
    "test['text_tokens'][7]"
   ]
  },
  {
   "cell_type": "markdown",
   "id": "c530310b",
   "metadata": {},
   "source": [
    "### Spliting data:"
   ]
  },
  {
   "cell_type": "code",
   "execution_count": 44,
   "id": "32ea0cfc",
   "metadata": {},
   "outputs": [],
   "source": [
    "feature=train['text']\n",
    "target =train['target']\n",
    "\n",
    "X_train, X_test, Y_train, Y_test = train_test_split(feature,target,test_size = 0.2,random_state =24)"
   ]
  },
  {
   "cell_type": "code",
   "execution_count": 45,
   "id": "944a2267",
   "metadata": {},
   "outputs": [
    {
     "data": {
      "text/plain": [
       "3157    NirbhayaCase SC dismisses curative petition of...\n",
       "3429    My first experience of environmental activism ...\n",
       "3228    So can someone explain weith most road deaths ...\n",
       "4375    DRIP OR DROWN AFTER SO MANY PAGES DELETED I RE...\n",
       "1551    Bruh it just randomly thundered out of knowwhe...\n",
       "                              ...                        \n",
       "3473    We saw lots of litter around Ushaka beach albe...\n",
       "343     Images bibliques Apocalypse 2134 LeChrist LeSe...\n",
       "6336    Those who claim current heat wave is unprecede...\n",
       "899      My shadow keeps on growing in this blazing light\n",
       "4514    SBWL Hanging around creatives beautiful minds ...\n",
       "Name: text, Length: 6383, dtype: object"
      ]
     },
     "execution_count": 45,
     "metadata": {},
     "output_type": "execute_result"
    }
   ],
   "source": [
    "X_train"
   ]
  },
  {
   "cell_type": "markdown",
   "id": "9ee982ee",
   "metadata": {},
   "source": [
    "### Modeling:"
   ]
  },
  {
   "cell_type": "markdown",
   "id": "74a95751",
   "metadata": {},
   "source": [
    "Vectorizng and fiting the data:\n",
    "vectorizer : it will do all three steps at once. Under the hood, it computes the word counts, IDF values, and TF-IDF scores all using the same data set\n",
    "transformer: it will systematically compute word counts using CountVectorizer and then compute the Inverse Document Frequency values and only then compute the TFIDF scores."
   ]
  },
  {
   "cell_type": "code",
   "execution_count": 46,
   "id": "9d6ca843",
   "metadata": {},
   "outputs": [],
   "source": [
    "vectorizer = CountVectorizer(analyzer='word', token_pattern=r'\\b[a-zA-Z]{3,}\\b' ,ngram_range=(1, 1))\n",
    "vectorized = vectorizer.fit_transform(X_train)\n",
    "tfidf = TfidfTransformer(smooth_idf=True, use_idf=True)\n",
    "trainfeature = tfidf.fit_transform(vectorized)"
   ]
  },
  {
   "cell_type": "code",
   "execution_count": 48,
   "id": "dc8f1343",
   "metadata": {},
   "outputs": [],
   "source": [
    "TFIDF= TfidfVectorizer(encoding='utf-8',\n",
    "                       ngram_range=(1,1),\n",
    "                       max_features=11000, \n",
    "                       norm='l2',\n",
    "                       sublinear_tf=True)"
   ]
  },
  {
   "cell_type": "code",
   "execution_count": 49,
   "id": "ae63daba",
   "metadata": {},
   "outputs": [],
   "source": [
    "TrainFeat_= TFIDF.fit_transform(X_train)"
   ]
  },
  {
   "cell_type": "code",
   "execution_count": 50,
   "id": "d4e6c0d9",
   "metadata": {},
   "outputs": [],
   "source": [
    "TestFeat_ = TFIDF.transform(X_test)"
   ]
  },
  {
   "cell_type": "markdown",
   "id": "eed0b894",
   "metadata": {},
   "source": [
    "### bulid and test the model:"
   ]
  },
  {
   "cell_type": "code",
   "execution_count": 51,
   "id": "355a8a44",
   "metadata": {},
   "outputs": [
    {
     "data": {
      "text/plain": [
       "0.8839103869653768"
      ]
     },
     "execution_count": 51,
     "metadata": {},
     "output_type": "execute_result"
    }
   ],
   "source": [
    "classifier = MultinomialNB()\n",
    "classifier.fit(TrainFeat_,Y_train)\n",
    "\n",
    "test_pred= classifier.predict(TestFeat_)\n",
    "accuracy = accuracy_score(Y_train, classifier.predict(TrainFeat_))\n",
    "accuracy"
   ]
  },
  {
   "cell_type": "code",
   "execution_count": 52,
   "id": "36ee42fd",
   "metadata": {},
   "outputs": [
    {
     "data": {
      "text/plain": [
       "0.8383458646616542"
      ]
     },
     "execution_count": 52,
     "metadata": {},
     "output_type": "execute_result"
    }
   ],
   "source": [
    "testing_accuracy = accuracy_score(Y_test, test_pred)\n",
    "testing_accuracy"
   ]
  },
  {
   "cell_type": "code",
   "execution_count": 53,
   "id": "18a1872b",
   "metadata": {},
   "outputs": [
    {
     "name": "stdout",
     "output_type": "stream",
     "text": [
      "              precision    recall  f1-score   support\n",
      "\n",
      "           0       0.83      1.00      0.91      1296\n",
      "           1       0.96      0.15      0.25       300\n",
      "\n",
      "    accuracy                           0.84      1596\n",
      "   macro avg       0.90      0.57      0.58      1596\n",
      "weighted avg       0.86      0.84      0.79      1596\n",
      "\n"
     ]
    }
   ],
   "source": [
    "print(classification_report(Y_test, test_pred))"
   ]
  },
  {
   "cell_type": "code",
   "execution_count": 54,
   "id": "8f8ff73a",
   "metadata": {},
   "outputs": [
    {
     "data": {
      "text/plain": [
       "<AxesSubplot:>"
      ]
     },
     "execution_count": 54,
     "metadata": {},
     "output_type": "execute_result"
    },
    {
     "data": {
      "image/png": "[encoded data removed]",
      "text/plain": [
       "<Figure size 432x288 with 2 Axes>"
      ]
     },
     "metadata": {
      "needs_background": "light"
     },
     "output_type": "display_data"
    }
   ],
   "source": [
    "sns.heatmap(confusion_matrix(Y_test, test_pred)/np.sum(confusion_matrix(Y_test, test_pred)),annot=True, fmt='.2%', cmap='twilight_shifted_r')"
   ]
  },
  {
   "cell_type": "code",
   "execution_count": 55,
   "id": "bbb51c67",
   "metadata": {},
   "outputs": [],
   "source": [
    "tvectorizer=TFIDF.transform( train['text']).toarray()\n",
    "last_predi = classifier.predict(tvectorizer)\n",
    "\n",
    "results    = pd.DataFrame()\n",
    "\n",
    "results['id'] = train['id']\n",
    "results['target'] = last_predi"
   ]
  },
  {
   "cell_type": "code",
   "execution_count": 56,
   "id": "43098d81",
   "metadata": {},
   "outputs": [
    {
     "data": {
      "text/html": [
       "<div>\n",
       "<style scoped>\n",
       "    .dataframe tbody tr th:only-of-type {\n",
       "        vertical-align: middle;\n",
       "    }\n",
       "\n",
       "    .dataframe tbody tr th {\n",
       "        vertical-align: top;\n",
       "    }\n",
       "\n",
       "    .dataframe thead th {\n",
       "        text-align: right;\n",
       "    }\n",
       "</style>\n",
       "<table border=\"1\" class=\"dataframe\">\n",
       "  <thead>\n",
       "    <tr style=\"text-align: right;\">\n",
       "      <th></th>\n",
       "      <th>id</th>\n",
       "      <th>target</th>\n",
       "    </tr>\n",
       "  </thead>\n",
       "  <tbody>\n",
       "    <tr>\n",
       "      <th>0</th>\n",
       "      <td>0</td>\n",
       "      <td>1</td>\n",
       "    </tr>\n",
       "    <tr>\n",
       "      <th>1</th>\n",
       "      <td>1</td>\n",
       "      <td>1</td>\n",
       "    </tr>\n",
       "    <tr>\n",
       "      <th>2</th>\n",
       "      <td>2</td>\n",
       "      <td>0</td>\n",
       "    </tr>\n",
       "    <tr>\n",
       "      <th>3</th>\n",
       "      <td>3</td>\n",
       "      <td>0</td>\n",
       "    </tr>\n",
       "    <tr>\n",
       "      <th>4</th>\n",
       "      <td>4</td>\n",
       "      <td>0</td>\n",
       "    </tr>\n",
       "    <tr>\n",
       "      <th>...</th>\n",
       "      <td>...</td>\n",
       "      <td>...</td>\n",
       "    </tr>\n",
       "    <tr>\n",
       "      <th>7974</th>\n",
       "      <td>7974</td>\n",
       "      <td>0</td>\n",
       "    </tr>\n",
       "    <tr>\n",
       "      <th>7975</th>\n",
       "      <td>7975</td>\n",
       "      <td>0</td>\n",
       "    </tr>\n",
       "    <tr>\n",
       "      <th>7976</th>\n",
       "      <td>7976</td>\n",
       "      <td>0</td>\n",
       "    </tr>\n",
       "    <tr>\n",
       "      <th>7977</th>\n",
       "      <td>7977</td>\n",
       "      <td>0</td>\n",
       "    </tr>\n",
       "    <tr>\n",
       "      <th>7978</th>\n",
       "      <td>7978</td>\n",
       "      <td>0</td>\n",
       "    </tr>\n",
       "  </tbody>\n",
       "</table>\n",
       "<p>7979 rows × 2 columns</p>\n",
       "</div>"
      ],
      "text/plain": [
       "        id  target\n",
       "0        0       1\n",
       "1        1       1\n",
       "2        2       0\n",
       "3        3       0\n",
       "4        4       0\n",
       "...    ...     ...\n",
       "7974  7974       0\n",
       "7975  7975       0\n",
       "7976  7976       0\n",
       "7977  7977       0\n",
       "7978  7978       0\n",
       "\n",
       "[7979 rows x 2 columns]"
      ]
     },
     "execution_count": 56,
     "metadata": {},
     "output_type": "execute_result"
    }
   ],
   "source": [
    "results"
   ]
  },
  {
   "cell_type": "code",
   "execution_count": null,
   "id": "b020eda5",
   "metadata": {},
   "outputs": [],
   "source": []
  }
 ],
 "metadata": {
  "kernelspec": {
   "display_name": "Python 3 (ipykernel)",
   "language": "python",
   "name": "python3"
  },
  "language_info": {
   "codemirror_mode": {
    "name": "ipython",
    "version": 3
   },
   "file_extension": ".py",
   "mimetype": "text/x-python",
   "name": "python",
   "nbconvert_exporter": "python",
   "pygments_lexer": "ipython3",
   "version": "3.9.10"
  }
 },
 "nbformat": 4,
 "nbformat_minor": 5
}
